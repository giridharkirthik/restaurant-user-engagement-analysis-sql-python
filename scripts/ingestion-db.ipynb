{
 "cells": [
  {
   "cell_type": "markdown",
   "id": "2986d13c-839e-4af1-a2eb-392c04115e24",
   "metadata": {},
   "source": [
    "Yelp's website, Yelp.com, is a crowd-sourced local business review and social networking site.[6] The site has pages devoted to individual locations, such as restaurants or schools, where Yelp users can submit a review of their products or services using a one to five stars rating scale.[\n",
    "\n",
    "<b>Problem Statement<b>\n",
    "\n",
    "In a competitive market like the restaurant industry, understanding the factors that \n",
    "influence business success is crucial for stakeholders. Utilizing the Yelp dataset, \n",
    "this project aims to investigate the relationship between user engagement \n",
    "(reviews, tips, and check-ins) and business success metrics (review count, ratings) for restaurants."
   ]
  },
  {
   "cell_type": "markdown",
   "id": "0640063f-217d-47ca-8617-fd8113f6eb12",
   "metadata": {},
   "source": [
    "<b>Data Overview<b>\n",
    "\n",
    "This project uses a subset of the Yelp dataset, which contains information about businesses and user engagement from eight metropolitan areas in the USA and Canada. The original data is provided by Yelp in five separate JSON files:\n",
    "\n",
    "business: Contains business information, including location, attributes, and categories.\n",
    "\n",
    "review: Contains full review text, star ratings, and links to the user and business.\n",
    "\n",
    "user: Contains user profiles, including their review count and \"fan\" status.\n",
    "\n",
    "tip: Contains short, unstructured tips left by users.\n",
    "\n",
    "checkin: Contains check-in data, showing the number of check-ins at a specific business on a given date.\n",
    "\n",
    "These JSON files are stored in a database to allow for easy and efficient data retrieval."
   ]
  },
  {
   "cell_type": "markdown",
   "id": "8fe92bc6-132e-4c5b-bd50-be971136cfe3",
   "metadata": {},
   "source": [
    "<b>Research Objectives<b>\n",
    "\n",
    "Based on the provided image, the research has three main objectives:\n",
    "\n",
    "Quantify the correlation between user engagement and business success: This involves analyzing how user engagement metrics like reviews, tips, and check-ins relate to business success metrics such as review count and average star ratings. The goal is to determine if businesses with more user engagement also have more reviews and higher ratings.\n",
    "\n",
    "Analyze the impact of sentiment on business success: This objective focuses on investigating how positive sentiment in reviews and tips influences a restaurant's average star rating. The research will also explore if positive sentiment can lead to an increase in the total number of reviews.\n",
    "\n",
    "Investigate time trends in user engagement: This objective aims to determine if consistent user engagement over a period of time is a better predictor of a business's long-term success than sporadic, short-lived bursts of activity."
   ]
  },
  {
   "cell_type": "markdown",
   "id": "7eaef7aa-6285-4df2-9b66-bd389ca57bed",
   "metadata": {},
   "source": [
    "<b>Hypothesis Testing<b>\n",
    "\n",
    "Higher levels of user engagement (more reviews, tips, and check-ins) correlate with higher review counts and ratings for restaurants.\n",
    "\n",
    "Positive sentiment expressed in reviews and tips contributes to higher overall ratings and review counts for restaurants.\n",
    "\n",
    "Consistent engagement over time is positively associated with sustained business success for restaurants."
   ]
  },
  {
   "cell_type": "code",
   "execution_count": 1,
   "id": "99d6fdf7-3f90-48c0-ae0d-bafceb38becb",
   "metadata": {},
   "outputs": [],
   "source": [
    "import pandas as pd\n",
    "import json\n",
    "from sqlalchemy import create_engine"
   ]
  },
  {
   "cell_type": "code",
   "execution_count": 2,
   "id": "83181a70-fca0-4965-8cf9-af2d0d121387",
   "metadata": {},
   "outputs": [
    {
     "name": "stdout",
     "output_type": "stream",
     "text": [
      "✅ business_df: (150346, 14)\n",
      "✅ checkin_df: (131930, 2)\n",
      "✅ tip_df: (908915, 5)\n",
      "✅ review_df (sampled): (100000, 9)\n",
      "✅ user_df (sampled): (50000, 22)\n",
      "\n",
      "⏱ Time taken: 39.91 seconds\n"
     ]
    }
   ],
   "source": [
    "import time\n",
    "\n",
    "start = time.time()\n",
    "\n",
    "# ⏱ Small files can be loaded fully\n",
    "business_df = pd.read_json(\"yelp_academic_dataset_business.json\", lines=True)\n",
    "checkin_df = pd.read_json(\"yelp_academic_dataset_checkin.json\", lines=True)\n",
    "tip_df = pd.read_json(\"yelp_academic_dataset_tip.json\", lines=True)\n",
    "\n",
    "# ✅ Load only first N rows of huge files (e.g., 100,000 reviews and 50,000 users)\n",
    "review_sample = []\n",
    "with open(\"yelp_academic_dataset_review.json\", \"r\", encoding=\"utf-8\") as f:\n",
    "    for i, line in enumerate(f):\n",
    "        if i >= 100000:  # Limit rows\n",
    "            break\n",
    "        review_sample.append(json.loads(line))\n",
    "review_df = pd.DataFrame(review_sample)\n",
    "\n",
    "user_sample = []\n",
    "with open(\"yelp_academic_dataset_user.json\", \"r\", encoding=\"utf-8\") as f:\n",
    "    for i, line in enumerate(f):\n",
    "        if i >= 50000:  # Limit rows\n",
    "            break\n",
    "        user_sample.append(json.loads(line))\n",
    "user_df = pd.DataFrame(user_sample)\n",
    "\n",
    "# ✅ Shape check\n",
    "print(f\"✅ business_df: {business_df.shape}\")\n",
    "print(f\"✅ checkin_df: {checkin_df.shape}\")\n",
    "print(f\"✅ tip_df: {tip_df.shape}\")\n",
    "print(f\"✅ review_df (sampled): {review_df.shape}\")\n",
    "print(f\"✅ user_df (sampled): {user_df.shape}\")\n",
    "print(f\"\\n⏱ Time taken: {round(time.time() - start, 2)} seconds\")\n"
   ]
  },
  {
   "cell_type": "code",
   "execution_count": 3,
   "id": "1e0c80c6-51fa-4ecc-8b6a-5da2d291a889",
   "metadata": {},
   "outputs": [
    {
     "name": "stdout",
     "output_type": "stream",
     "text": [
      "(150346, 14)\n",
      "(131930, 2)\n",
      "(100000, 9)\n",
      "(908915, 5)\n",
      "(50000, 22)\n",
      "\n",
      "Time taken: 0.0 seconds\n"
     ]
    }
   ],
   "source": [
    "import time\n",
    "start = time.time()\n",
    "\n",
    "print(business_df.shape)\n",
    "print(checkin_df.shape)\n",
    "print(review_df.shape)\n",
    "print(tip_df.shape)\n",
    "print(user_df.shape)\n",
    "\n",
    "print(f\"\\nTime taken: {round(time.time() - start, 2)} seconds\")\n"
   ]
  },
  {
   "cell_type": "code",
   "execution_count": 4,
   "id": "5f4088ea-8bf4-42b9-8226-63132ee57da9",
   "metadata": {},
   "outputs": [],
   "source": [
    "#we r removing attributes and hours col as we don't need it"
   ]
  },
  {
   "cell_type": "code",
   "execution_count": 8,
   "id": "c24aea9f-9ac1-4162-a401-e52aebe648ed",
   "metadata": {},
   "outputs": [
    {
     "ename": "KeyError",
     "evalue": "\"['attributes', 'hours'] not found in axis\"",
     "output_type": "error",
     "traceback": [
      "\u001b[31m---------------------------------------------------------------------------\u001b[39m",
      "\u001b[31mKeyError\u001b[39m                                  Traceback (most recent call last)",
      "\u001b[36mCell\u001b[39m\u001b[36m \u001b[39m\u001b[32mIn[8]\u001b[39m\u001b[32m, line 1\u001b[39m\n\u001b[32m----> \u001b[39m\u001b[32m1\u001b[39m \u001b[43mbusiness_df\u001b[49m\u001b[43m.\u001b[49m\u001b[43mdrop\u001b[49m\u001b[43m(\u001b[49m\u001b[43m[\u001b[49m\u001b[33;43m'\u001b[39;49m\u001b[33;43mattributes\u001b[39;49m\u001b[33;43m'\u001b[39;49m\u001b[43m,\u001b[49m\u001b[43m \u001b[49m\u001b[33;43m'\u001b[39;49m\u001b[33;43mhours\u001b[39;49m\u001b[33;43m'\u001b[39;49m\u001b[43m]\u001b[49m\u001b[43m,\u001b[49m\u001b[43m \u001b[49m\u001b[43maxis\u001b[49m\u001b[43m=\u001b[49m\u001b[32;43m1\u001b[39;49m\u001b[43m,\u001b[49m\u001b[43m \u001b[49m\u001b[43minplace\u001b[49m\u001b[43m=\u001b[49m\u001b[38;5;28;43;01mTrue\u001b[39;49;00m\u001b[43m)\u001b[49m\n",
      "\u001b[36mFile \u001b[39m\u001b[32m~\\anaconda\\Lib\\site-packages\\pandas\\core\\frame.py:5581\u001b[39m, in \u001b[36mDataFrame.drop\u001b[39m\u001b[34m(self, labels, axis, index, columns, level, inplace, errors)\u001b[39m\n\u001b[32m   5433\u001b[39m \u001b[38;5;28;01mdef\u001b[39;00m\u001b[38;5;250m \u001b[39m\u001b[34mdrop\u001b[39m(\n\u001b[32m   5434\u001b[39m     \u001b[38;5;28mself\u001b[39m,\n\u001b[32m   5435\u001b[39m     labels: IndexLabel | \u001b[38;5;28;01mNone\u001b[39;00m = \u001b[38;5;28;01mNone\u001b[39;00m,\n\u001b[32m   (...)\u001b[39m\u001b[32m   5442\u001b[39m     errors: IgnoreRaise = \u001b[33m\"\u001b[39m\u001b[33mraise\u001b[39m\u001b[33m\"\u001b[39m,\n\u001b[32m   5443\u001b[39m ) -> DataFrame | \u001b[38;5;28;01mNone\u001b[39;00m:\n\u001b[32m   5444\u001b[39m \u001b[38;5;250m    \u001b[39m\u001b[33;03m\"\"\"\u001b[39;00m\n\u001b[32m   5445\u001b[39m \u001b[33;03m    Drop specified labels from rows or columns.\u001b[39;00m\n\u001b[32m   5446\u001b[39m \n\u001b[32m   (...)\u001b[39m\u001b[32m   5579\u001b[39m \u001b[33;03m            weight  1.0     0.8\u001b[39;00m\n\u001b[32m   5580\u001b[39m \u001b[33;03m    \"\"\"\u001b[39;00m\n\u001b[32m-> \u001b[39m\u001b[32m5581\u001b[39m     \u001b[38;5;28;01mreturn\u001b[39;00m \u001b[38;5;28;43msuper\u001b[39;49m\u001b[43m(\u001b[49m\u001b[43m)\u001b[49m\u001b[43m.\u001b[49m\u001b[43mdrop\u001b[49m\u001b[43m(\u001b[49m\n\u001b[32m   5582\u001b[39m \u001b[43m        \u001b[49m\u001b[43mlabels\u001b[49m\u001b[43m=\u001b[49m\u001b[43mlabels\u001b[49m\u001b[43m,\u001b[49m\n\u001b[32m   5583\u001b[39m \u001b[43m        \u001b[49m\u001b[43maxis\u001b[49m\u001b[43m=\u001b[49m\u001b[43maxis\u001b[49m\u001b[43m,\u001b[49m\n\u001b[32m   5584\u001b[39m \u001b[43m        \u001b[49m\u001b[43mindex\u001b[49m\u001b[43m=\u001b[49m\u001b[43mindex\u001b[49m\u001b[43m,\u001b[49m\n\u001b[32m   5585\u001b[39m \u001b[43m        \u001b[49m\u001b[43mcolumns\u001b[49m\u001b[43m=\u001b[49m\u001b[43mcolumns\u001b[49m\u001b[43m,\u001b[49m\n\u001b[32m   5586\u001b[39m \u001b[43m        \u001b[49m\u001b[43mlevel\u001b[49m\u001b[43m=\u001b[49m\u001b[43mlevel\u001b[49m\u001b[43m,\u001b[49m\n\u001b[32m   5587\u001b[39m \u001b[43m        \u001b[49m\u001b[43minplace\u001b[49m\u001b[43m=\u001b[49m\u001b[43minplace\u001b[49m\u001b[43m,\u001b[49m\n\u001b[32m   5588\u001b[39m \u001b[43m        \u001b[49m\u001b[43merrors\u001b[49m\u001b[43m=\u001b[49m\u001b[43merrors\u001b[49m\u001b[43m,\u001b[49m\n\u001b[32m   5589\u001b[39m \u001b[43m    \u001b[49m\u001b[43m)\u001b[49m\n",
      "\u001b[36mFile \u001b[39m\u001b[32m~\\anaconda\\Lib\\site-packages\\pandas\\core\\generic.py:4788\u001b[39m, in \u001b[36mNDFrame.drop\u001b[39m\u001b[34m(self, labels, axis, index, columns, level, inplace, errors)\u001b[39m\n\u001b[32m   4786\u001b[39m \u001b[38;5;28;01mfor\u001b[39;00m axis, labels \u001b[38;5;129;01min\u001b[39;00m axes.items():\n\u001b[32m   4787\u001b[39m     \u001b[38;5;28;01mif\u001b[39;00m labels \u001b[38;5;129;01mis\u001b[39;00m \u001b[38;5;129;01mnot\u001b[39;00m \u001b[38;5;28;01mNone\u001b[39;00m:\n\u001b[32m-> \u001b[39m\u001b[32m4788\u001b[39m         obj = \u001b[43mobj\u001b[49m\u001b[43m.\u001b[49m\u001b[43m_drop_axis\u001b[49m\u001b[43m(\u001b[49m\u001b[43mlabels\u001b[49m\u001b[43m,\u001b[49m\u001b[43m \u001b[49m\u001b[43maxis\u001b[49m\u001b[43m,\u001b[49m\u001b[43m \u001b[49m\u001b[43mlevel\u001b[49m\u001b[43m=\u001b[49m\u001b[43mlevel\u001b[49m\u001b[43m,\u001b[49m\u001b[43m \u001b[49m\u001b[43merrors\u001b[49m\u001b[43m=\u001b[49m\u001b[43merrors\u001b[49m\u001b[43m)\u001b[49m\n\u001b[32m   4790\u001b[39m \u001b[38;5;28;01mif\u001b[39;00m inplace:\n\u001b[32m   4791\u001b[39m     \u001b[38;5;28mself\u001b[39m._update_inplace(obj)\n",
      "\u001b[36mFile \u001b[39m\u001b[32m~\\anaconda\\Lib\\site-packages\\pandas\\core\\generic.py:4830\u001b[39m, in \u001b[36mNDFrame._drop_axis\u001b[39m\u001b[34m(self, labels, axis, level, errors, only_slice)\u001b[39m\n\u001b[32m   4828\u001b[39m         new_axis = axis.drop(labels, level=level, errors=errors)\n\u001b[32m   4829\u001b[39m     \u001b[38;5;28;01melse\u001b[39;00m:\n\u001b[32m-> \u001b[39m\u001b[32m4830\u001b[39m         new_axis = \u001b[43maxis\u001b[49m\u001b[43m.\u001b[49m\u001b[43mdrop\u001b[49m\u001b[43m(\u001b[49m\u001b[43mlabels\u001b[49m\u001b[43m,\u001b[49m\u001b[43m \u001b[49m\u001b[43merrors\u001b[49m\u001b[43m=\u001b[49m\u001b[43merrors\u001b[49m\u001b[43m)\u001b[49m\n\u001b[32m   4831\u001b[39m     indexer = axis.get_indexer(new_axis)\n\u001b[32m   4833\u001b[39m \u001b[38;5;66;03m# Case for non-unique axis\u001b[39;00m\n\u001b[32m   4834\u001b[39m \u001b[38;5;28;01melse\u001b[39;00m:\n",
      "\u001b[36mFile \u001b[39m\u001b[32m~\\anaconda\\Lib\\site-packages\\pandas\\core\\indexes\\base.py:7070\u001b[39m, in \u001b[36mIndex.drop\u001b[39m\u001b[34m(self, labels, errors)\u001b[39m\n\u001b[32m   7068\u001b[39m \u001b[38;5;28;01mif\u001b[39;00m mask.any():\n\u001b[32m   7069\u001b[39m     \u001b[38;5;28;01mif\u001b[39;00m errors != \u001b[33m\"\u001b[39m\u001b[33mignore\u001b[39m\u001b[33m\"\u001b[39m:\n\u001b[32m-> \u001b[39m\u001b[32m7070\u001b[39m         \u001b[38;5;28;01mraise\u001b[39;00m \u001b[38;5;167;01mKeyError\u001b[39;00m(\u001b[33mf\u001b[39m\u001b[33m\"\u001b[39m\u001b[38;5;132;01m{\u001b[39;00mlabels[mask].tolist()\u001b[38;5;132;01m}\u001b[39;00m\u001b[33m not found in axis\u001b[39m\u001b[33m\"\u001b[39m)\n\u001b[32m   7071\u001b[39m     indexer = indexer[~mask]\n\u001b[32m   7072\u001b[39m \u001b[38;5;28;01mreturn\u001b[39;00m \u001b[38;5;28mself\u001b[39m.delete(indexer)\n",
      "\u001b[31mKeyError\u001b[39m: \"['attributes', 'hours'] not found in axis\""
     ]
    }
   ],
   "source": [
    "business_df.drop(['attributes', 'hours'], axis=1, inplace=True)\n"
   ]
  },
  {
   "cell_type": "code",
   "execution_count": 7,
   "id": "c16f212f-f1c1-407f-a159-f97ed775c8b7",
   "metadata": {},
   "outputs": [],
   "source": [
    "engine = create_engine('sqlite:///yelp.db')\n",
    "\n",
    "def load_dataframe(df, table_name, engine):\n",
    "    df.to_sql(table_name, con=engine, if_exists='replace', index=False)\n",
    "\n",
    "# Load each DataFrame into a separate table\n",
    "load_dataframe(business_df, 'business', engine)\n",
    "load_dataframe(review_df, 'review', engine)\n",
    "load_dataframe(user_df, 'user', engine)\n",
    "load_dataframe(tip_df, 'tip', engine)\n",
    "load_dataframe(checkin_df, 'checkin', engine)"
   ]
  },
  {
   "cell_type": "code",
   "execution_count": null,
   "id": "92c7cee7-0ca0-4d18-8b05-7adc2c935a46",
   "metadata": {},
   "outputs": [],
   "source": []
  }
 ],
 "metadata": {
  "kernelspec": {
   "display_name": "Python 3 (ipykernel)",
   "language": "python",
   "name": "python3"
  },
  "language_info": {
   "codemirror_mode": {
    "name": "ipython",
    "version": 3
   },
   "file_extension": ".py",
   "mimetype": "text/x-python",
   "name": "python",
   "nbconvert_exporter": "python",
   "pygments_lexer": "ipython3",
   "version": "3.13.5"
  }
 },
 "nbformat": 4,
 "nbformat_minor": 5
}
